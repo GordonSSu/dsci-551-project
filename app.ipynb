{
 "cells": [
  {
   "cell_type": "markdown",
   "id": "9b327ee0-b1f5-4eae-a208-92abe2938813",
   "metadata": {},
   "source": [
    "# DSCI 551 Project"
   ]
  },
  {
   "cell_type": "markdown",
   "id": "7baa86f4-e15a-4680-a7ff-fced18b6f1b6",
   "metadata": {},
   "source": [
    "Date range: 2020-12-02 to 2022-03-29"
   ]
  },
  {
   "cell_type": "markdown",
   "id": "9beefaef-9865-47a3-a185-209113a4bc6c",
   "metadata": {},
   "source": [
    "### All necessary imports"
   ]
  },
  {
   "cell_type": "code",
   "execution_count": 3,
   "id": "4deb6413-9b50-48fb-9dc5-aab914dc8361",
   "metadata": {},
   "outputs": [],
   "source": [
    "import json\n",
    "import numpy as np\n",
    "import pandas as pd\n",
    "import requests\n",
    "import firebase_admin\n",
    "from firebase_admin import db\n",
    "from firebase_admin import credentials\n",
    "import json"
   ]
  },
  {
   "cell_type": "markdown",
   "id": "39583b21-026f-44af-a4ca-68e9767c59d3",
   "metadata": {},
   "source": [
    "### Import and preview vaccination data"
   ]
  },
  {
   "cell_type": "code",
   "execution_count": 46,
   "id": "6e1c5261-e8b3-4fc5-b0ad-344039987897",
   "metadata": {},
   "outputs": [
    {
     "data": {
      "text/html": [
       "<div>\n",
       "<style scoped>\n",
       "    .dataframe tbody tr th:only-of-type {\n",
       "        vertical-align: middle;\n",
       "    }\n",
       "\n",
       "    .dataframe tbody tr th {\n",
       "        vertical-align: top;\n",
       "    }\n",
       "\n",
       "    .dataframe thead th {\n",
       "        text-align: right;\n",
       "    }\n",
       "</style>\n",
       "<table border=\"1\" class=\"dataframe\">\n",
       "  <thead>\n",
       "    <tr style=\"text-align: right;\">\n",
       "      <th></th>\n",
       "      <th>country</th>\n",
       "      <th>iso_code</th>\n",
       "      <th>date</th>\n",
       "      <th>total_vaccinations</th>\n",
       "      <th>people_vaccinated</th>\n",
       "      <th>people_fully_vaccinated</th>\n",
       "      <th>daily_vaccinations_raw</th>\n",
       "      <th>daily_vaccinations</th>\n",
       "      <th>total_vaccinations_per_hundred</th>\n",
       "      <th>people_vaccinated_per_hundred</th>\n",
       "      <th>people_fully_vaccinated_per_hundred</th>\n",
       "      <th>daily_vaccinations_per_million</th>\n",
       "      <th>vaccines</th>\n",
       "      <th>source_name</th>\n",
       "      <th>source_website</th>\n",
       "      <th>year</th>\n",
       "      <th>month</th>\n",
       "      <th>day</th>\n",
       "    </tr>\n",
       "  </thead>\n",
       "  <tbody>\n",
       "    <tr>\n",
       "      <th>0</th>\n",
       "      <td>Afghanistan</td>\n",
       "      <td>AFG</td>\n",
       "      <td>2021-02-22</td>\n",
       "      <td>0.0</td>\n",
       "      <td>0.0</td>\n",
       "      <td>NaN</td>\n",
       "      <td>NaN</td>\n",
       "      <td>NaN</td>\n",
       "      <td>0.0</td>\n",
       "      <td>0.0</td>\n",
       "      <td>NaN</td>\n",
       "      <td>NaN</td>\n",
       "      <td>Johnson&amp;Johnson, Oxford/AstraZeneca, Pfizer/Bi...</td>\n",
       "      <td>World Health Organization</td>\n",
       "      <td>https://covid19.who.int/</td>\n",
       "      <td>2021</td>\n",
       "      <td>2</td>\n",
       "      <td>22</td>\n",
       "    </tr>\n",
       "    <tr>\n",
       "      <th>1</th>\n",
       "      <td>Afghanistan</td>\n",
       "      <td>AFG</td>\n",
       "      <td>2021-02-23</td>\n",
       "      <td>NaN</td>\n",
       "      <td>NaN</td>\n",
       "      <td>NaN</td>\n",
       "      <td>NaN</td>\n",
       "      <td>1367.0</td>\n",
       "      <td>NaN</td>\n",
       "      <td>NaN</td>\n",
       "      <td>NaN</td>\n",
       "      <td>34.0</td>\n",
       "      <td>Johnson&amp;Johnson, Oxford/AstraZeneca, Pfizer/Bi...</td>\n",
       "      <td>World Health Organization</td>\n",
       "      <td>https://covid19.who.int/</td>\n",
       "      <td>2021</td>\n",
       "      <td>2</td>\n",
       "      <td>23</td>\n",
       "    </tr>\n",
       "    <tr>\n",
       "      <th>2</th>\n",
       "      <td>Afghanistan</td>\n",
       "      <td>AFG</td>\n",
       "      <td>2021-02-24</td>\n",
       "      <td>NaN</td>\n",
       "      <td>NaN</td>\n",
       "      <td>NaN</td>\n",
       "      <td>NaN</td>\n",
       "      <td>1367.0</td>\n",
       "      <td>NaN</td>\n",
       "      <td>NaN</td>\n",
       "      <td>NaN</td>\n",
       "      <td>34.0</td>\n",
       "      <td>Johnson&amp;Johnson, Oxford/AstraZeneca, Pfizer/Bi...</td>\n",
       "      <td>World Health Organization</td>\n",
       "      <td>https://covid19.who.int/</td>\n",
       "      <td>2021</td>\n",
       "      <td>2</td>\n",
       "      <td>24</td>\n",
       "    </tr>\n",
       "  </tbody>\n",
       "</table>\n",
       "</div>"
      ],
      "text/plain": [
       "       country iso_code       date  total_vaccinations  people_vaccinated  \\\n",
       "0  Afghanistan      AFG 2021-02-22                 0.0                0.0   \n",
       "1  Afghanistan      AFG 2021-02-23                 NaN                NaN   \n",
       "2  Afghanistan      AFG 2021-02-24                 NaN                NaN   \n",
       "\n",
       "   people_fully_vaccinated  daily_vaccinations_raw  daily_vaccinations  \\\n",
       "0                      NaN                     NaN                 NaN   \n",
       "1                      NaN                     NaN              1367.0   \n",
       "2                      NaN                     NaN              1367.0   \n",
       "\n",
       "   total_vaccinations_per_hundred  people_vaccinated_per_hundred  \\\n",
       "0                             0.0                            0.0   \n",
       "1                             NaN                            NaN   \n",
       "2                             NaN                            NaN   \n",
       "\n",
       "   people_fully_vaccinated_per_hundred  daily_vaccinations_per_million  \\\n",
       "0                                  NaN                             NaN   \n",
       "1                                  NaN                            34.0   \n",
       "2                                  NaN                            34.0   \n",
       "\n",
       "                                            vaccines  \\\n",
       "0  Johnson&Johnson, Oxford/AstraZeneca, Pfizer/Bi...   \n",
       "1  Johnson&Johnson, Oxford/AstraZeneca, Pfizer/Bi...   \n",
       "2  Johnson&Johnson, Oxford/AstraZeneca, Pfizer/Bi...   \n",
       "\n",
       "                 source_name            source_website  year  month  day  \n",
       "0  World Health Organization  https://covid19.who.int/  2021      2   22  \n",
       "1  World Health Organization  https://covid19.who.int/  2021      2   23  \n",
       "2  World Health Organization  https://covid19.who.int/  2021      2   24  "
      ]
     },
     "execution_count": 46,
     "metadata": {},
     "output_type": "execute_result"
    }
   ],
   "source": [
    "vacc_df = pd.read_csv('./data/country_vaccinations.csv')\n",
    "vacc_df['date'] = pd.to_datetime(vacc_df['date'])\n",
    "vacc_df['year'] = vacc_df.apply(lambda row: row.date.year, axis=1)\n",
    "vacc_df['month'] = vacc_df.apply(lambda row: row.date.month, axis=1)\n",
    "vacc_df['day'] = vacc_df.apply(lambda row: row.date.day, axis=1)\n",
    "vacc_df.head(3)"
   ]
  },
  {
   "cell_type": "markdown",
   "id": "6a853313-d63e-48b5-ad38-8c8a9dd87cb6",
   "metadata": {},
   "source": [
    "### Import and preview PFE price data"
   ]
  },
  {
   "cell_type": "code",
   "execution_count": 47,
   "id": "441f8d21-aa3f-4f1b-a698-360b66dcb796",
   "metadata": {},
   "outputs": [
    {
     "data": {
      "text/html": [
       "<div>\n",
       "<style scoped>\n",
       "    .dataframe tbody tr th:only-of-type {\n",
       "        vertical-align: middle;\n",
       "    }\n",
       "\n",
       "    .dataframe tbody tr th {\n",
       "        vertical-align: top;\n",
       "    }\n",
       "\n",
       "    .dataframe thead th {\n",
       "        text-align: right;\n",
       "    }\n",
       "</style>\n",
       "<table border=\"1\" class=\"dataframe\">\n",
       "  <thead>\n",
       "    <tr style=\"text-align: right;\">\n",
       "      <th></th>\n",
       "      <th>Date</th>\n",
       "      <th>Open</th>\n",
       "      <th>High</th>\n",
       "      <th>Low</th>\n",
       "      <th>Close</th>\n",
       "      <th>Adj Close</th>\n",
       "      <th>Volume</th>\n",
       "      <th>year</th>\n",
       "      <th>month</th>\n",
       "      <th>day</th>\n",
       "    </tr>\n",
       "  </thead>\n",
       "  <tbody>\n",
       "    <tr>\n",
       "      <th>0</th>\n",
       "      <td>2020-12-02</td>\n",
       "      <td>40.470001</td>\n",
       "      <td>41.410000</td>\n",
       "      <td>40.299999</td>\n",
       "      <td>40.799999</td>\n",
       "      <td>38.354626</td>\n",
       "      <td>84347500</td>\n",
       "      <td>2020</td>\n",
       "      <td>12</td>\n",
       "      <td>2</td>\n",
       "    </tr>\n",
       "    <tr>\n",
       "      <th>1</th>\n",
       "      <td>2020-12-03</td>\n",
       "      <td>40.980000</td>\n",
       "      <td>41.029999</td>\n",
       "      <td>39.520000</td>\n",
       "      <td>40.090000</td>\n",
       "      <td>37.687180</td>\n",
       "      <td>68570100</td>\n",
       "      <td>2020</td>\n",
       "      <td>12</td>\n",
       "      <td>3</td>\n",
       "    </tr>\n",
       "    <tr>\n",
       "      <th>2</th>\n",
       "      <td>2020-12-04</td>\n",
       "      <td>39.889999</td>\n",
       "      <td>40.450001</td>\n",
       "      <td>39.889999</td>\n",
       "      <td>40.340000</td>\n",
       "      <td>37.922195</td>\n",
       "      <td>35368100</td>\n",
       "      <td>2020</td>\n",
       "      <td>12</td>\n",
       "      <td>4</td>\n",
       "    </tr>\n",
       "  </tbody>\n",
       "</table>\n",
       "</div>"
      ],
      "text/plain": [
       "        Date       Open       High        Low      Close  Adj Close    Volume  \\\n",
       "0 2020-12-02  40.470001  41.410000  40.299999  40.799999  38.354626  84347500   \n",
       "1 2020-12-03  40.980000  41.029999  39.520000  40.090000  37.687180  68570100   \n",
       "2 2020-12-04  39.889999  40.450001  39.889999  40.340000  37.922195  35368100   \n",
       "\n",
       "   year  month  day  \n",
       "0  2020     12    2  \n",
       "1  2020     12    3  \n",
       "2  2020     12    4  "
      ]
     },
     "execution_count": 47,
     "metadata": {},
     "output_type": "execute_result"
    }
   ],
   "source": [
    "pfe_prices_df = pd.read_csv('./data/PFE_historical_prices.csv')\n",
    "pfe_prices_df['Date'] = pd.to_datetime(pfe_prices_df['Date'])\n",
    "pfe_prices_df['year'] = pfe_prices_df.apply(lambda row: row.Date.year, axis=1)\n",
    "pfe_prices_df['month'] = pfe_prices_df.apply(lambda row: row.Date.month, axis=1)\n",
    "pfe_prices_df['day'] = pfe_prices_df.apply(lambda row: row.Date.day, axis=1)\n",
    "pfe_prices_df.head(3)"
   ]
  },
  {
   "cell_type": "markdown",
   "id": "664ac4ad-2ff7-4078-b49a-a1196034b44b",
   "metadata": {},
   "source": [
    "### Iterate over vaccination data and upload to Firebase"
   ]
  },
  {
   "cell_type": "code",
   "execution_count": 51,
   "id": "a5007ad2-7cc6-41a8-8cfd-bfdd50c32b00",
   "metadata": {},
   "outputs": [
    {
     "name": "stdout",
     "output_type": "stream",
     "text": [
      "<Response [200]>\n"
     ]
    }
   ],
   "source": [
    "all_countries = vacc_df['country'].unique()\n",
    "all_years = [2020, 2021, 2022]\n",
    "all_months = [month for month in range(1, 13)]\n",
    "vacc_dict = {}\n",
    "\n",
    "for country in all_countries:\n",
    "    country_df = vacc_df.loc[vacc_df['country'] == country]\n",
    "    country_dict = {}\n",
    "    \n",
    "    for year in all_years:\n",
    "        year_df = vacc_df.loc[vacc_df['year'] == year]\n",
    "        year_dict = {}\n",
    "        \n",
    "        for month in all_months:\n",
    "            month_df = vacc_df.loc[vacc_df['month'] == month]\n",
    "            month_dict = dict(month_df[['day', 'daily_vaccinations']].values)\n",
    "            month_dict = {int(k):v for k,v in month_dict.items()}\n",
    "            \n",
    "            year_dict[month] = month_dict\n",
    "        country_dict[year] = year_dict\n",
    "    vacc_dict[country] = country_dict\n",
    "    \n",
    "url = 'https://dsci-551-3cb2b-default-rtdb.firebaseio.com/vaccination_data.json'\n",
    "result = requests.put(url, data=json.dumps(vacc_dict))\n",
    "print(result)"
   ]
  },
  {
   "cell_type": "markdown",
   "id": "9602b0a1-c7d2-43f6-b1ff-0d75fe72f146",
   "metadata": {},
   "source": [
    "### Iterate over PFE price data and upload to Firebase"
   ]
  },
  {
   "cell_type": "code",
   "execution_count": 52,
   "id": "3b984119-e74a-4899-abfb-1b79761fa85e",
   "metadata": {},
   "outputs": [
    {
     "name": "stdout",
     "output_type": "stream",
     "text": [
      "<Response [200]>\n"
     ]
    }
   ],
   "source": [
    "pfe_dict = {}\n",
    "\n",
    "for year in all_years:\n",
    "    year_df = pfe_prices_df.loc[pfe_prices_df['year'] == year]\n",
    "    year_dict = {}\n",
    "\n",
    "    for month in all_months:\n",
    "        month_df = pfe_prices_df.loc[pfe_prices_df['month'] == month]\n",
    "        month_dict = dict(month_df[['day', 'Close']].values)\n",
    "        month_dict = {int(k):v for k,v in month_dict.items()}\n",
    "        \n",
    "        year_dict[month] = month_dict\n",
    "    pfe_dict[year] = year_dict\n",
    "\n",
    "url = 'https://dsci-551-3cb2b-default-rtdb.firebaseio.com/pfe_prices_data.json'\n",
    "result = requests.put(url, data=json.dumps(pfe_dict))\n",
    "print(result)"
   ]
  },
  {
   "cell_type": "code",
   "execution_count": 53,
   "id": "8154d227-d785-4a04-9c87-e8bd2ff173bf",
   "metadata": {},
   "outputs": [
    {
     "name": "stdin",
     "output_type": "stream",
     "text": [
      "test: here\n"
     ]
    },
    {
     "name": "stdout",
     "output_type": "stream",
     "text": [
      "here\n"
     ]
    }
   ],
   "source": [
    "user_input = input(\"test:\")\n",
    "print(user_input)"
   ]
  },
  {
   "cell_type": "code",
   "execution_count": 2,
   "id": "0535b20b-e846-48a3-9f78-8e069d76741d",
   "metadata": {},
   "outputs": [],
   "source": [
    "cred = credentials.Certificate(\"./dsci-551-3cb2b-firebase-adminsdk-7ajia-c0dffd1d3c.json\")\n",
    "databaseURL = 'https://dsci-551-3cb2b-default-rtdb.firebaseio.com/'\n",
    "default_app = firebase_admin.initialize_app(cred, {\n",
    "    'databaseURL': databaseURL\n",
    "})\n",
    "ref = db.reference(\"/\")"
   ]
  },
  {
   "cell_type": "markdown",
   "id": "0f3e55aa",
   "metadata": {},
   "source": [
    "### EDFS Implementations"
   ]
  },
  {
   "cell_type": "code",
   "execution_count": 36,
   "id": "b94bd058",
   "metadata": {},
   "outputs": [],
   "source": [
    "# rm\n",
    "def remove_file(path):\n",
    "    ref = db.reference(path)\n",
    "    children = ref.get()\n",
    "    for key, value in children.items():\n",
    "        ref.child(key).set({})\n",
    "\n",
    "# cat\n",
    "def cat_file(path):\n",
    "    ref = db.reference(path)\n",
    "    print(ref.get())\n",
    "\n",
    "# ls\n",
    "def list_contents(path):\n",
    "    ref = db.reference(path)\n",
    "    contents = ref.get()\n",
    "    for key, val in contents.items():\n",
    "        print(key)\n",
    "        \n",
    "# mkdir\n",
    "def make_directory(path):\n",
    "    ref = db.reference(path)\n",
    "    ref.set({\n",
    "        \"New Path\":\n",
    "        {\n",
    "            \"New_Path\": True\n",
    "        }\n",
    "    })\n",
    "\n",
    "# put (without partitions)\n",
    "def put_file(file, path):\n",
    "    ref = db.reference(path)\n",
    "    query = ref.child(\"New Path\").get()\n",
    "    if len(query) == 1:\n",
    "        ref.child(\"New Path\").set({})\n",
    "    with open(file, \"r\") as f:\n",
    "        contents = json.load(f)\n",
    "    ref.set(contents)"
   ]
  },
  {
   "cell_type": "code",
   "execution_count": 8,
   "id": "01f2a454",
   "metadata": {},
   "outputs": [],
   "source": [
    "put_file(\"test.json\", '/test/')"
   ]
  },
  {
   "cell_type": "code",
   "execution_count": 7,
   "id": "c68db9bd",
   "metadata": {},
   "outputs": [],
   "source": [
    "remove_file('/test/')"
   ]
  },
  {
   "cell_type": "code",
   "execution_count": 10,
   "id": "022a1803",
   "metadata": {},
   "outputs": [
    {
     "name": "stdout",
     "output_type": "stream",
     "text": [
      "Person1\n",
      "Person2\n",
      "Person3\n"
     ]
    }
   ],
   "source": [
    "list_contents('/test/')"
   ]
  },
  {
   "cell_type": "code",
   "execution_count": 11,
   "id": "29411fbf",
   "metadata": {},
   "outputs": [
    {
     "name": "stdout",
     "output_type": "stream",
     "text": [
      "{'Person1': {'description': 'Dolor a sit illum vel corrupti est quia. Dolorem repudiandae molestiae qui ut. Repellendus in mollitia error repellat necessitatibus molestiae.', 'email': 'cale83@hotmail.com', 'name': 'Lorenza Nienow', 'phone': '1-786-677-7753'}, 'Person2': {'description': 'Amet veniam dolorum dolor sit voluptas. Voluptatem sit amet et provident. Culpa soluta nobis voluptatibus blanditiis animi veritatis officia.', 'email': 'dietrich.janet@gmail.com', 'name': 'Jack Koch PhD', 'phone': '947.729.3179'}, 'Person3': {'description': 'Eligendi voluptate in nostrum odit. Et voluptas mollitia suscipit. Optio quas ut voluptas.', 'email': 'patience67@gmail.com', 'name': 'Mr. Daryl Leffler Jr.', 'phone': '+1-551-867-7600'}}\n"
     ]
    }
   ],
   "source": [
    "cat_file('/test/')"
   ]
  },
  {
   "cell_type": "code",
   "execution_count": 39,
   "id": "feea263d",
   "metadata": {},
   "outputs": [],
   "source": [
    "make_directory('/test2/')"
   ]
  },
  {
   "cell_type": "code",
   "execution_count": null,
   "id": "79e18cc3",
   "metadata": {},
   "outputs": [],
   "source": [
    "remove_file('/test2/')"
   ]
  },
  {
   "cell_type": "code",
   "execution_count": 40,
   "id": "1125d512",
   "metadata": {},
   "outputs": [],
   "source": [
    "put_file(\"test.json\", '/test2/')"
   ]
  },
  {
   "cell_type": "code",
   "execution_count": null,
   "id": "5ec52a4f",
   "metadata": {},
   "outputs": [],
   "source": []
  }
 ],
 "metadata": {
  "kernelspec": {
   "display_name": "Python 3 (ipykernel)",
   "language": "python",
   "name": "python3"
  },
  "language_info": {
   "codemirror_mode": {
    "name": "ipython",
    "version": 3
   },
   "file_extension": ".py",
   "mimetype": "text/x-python",
   "name": "python",
   "nbconvert_exporter": "python",
   "pygments_lexer": "ipython3",
   "version": "3.9.5"
  }
 },
 "nbformat": 4,
 "nbformat_minor": 5
}
